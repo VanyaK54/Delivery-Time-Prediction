{
 "cells": [
  {
   "cell_type": "markdown",
   "id": "6fa8a2a1",
   "metadata": {},
   "source": [
    "# 📊 Data Exploration - Delivery Time Prediction\n",
    "\n",
    "This notebook explores the delivery dataset to identify trends and patterns that may impact delivery times, such as traffic levels, weather conditions, and distance.\n"
   ]
  },
  {
   "cell_type": "code",
   "execution_count": null,
   "id": "f940db9e",
   "metadata": {
    "vscode": {
     "languageId": "plaintext"
    }
   },
   "outputs": [],
   "source": [
    "import pandas as pd\n",
    "import matplotlib.pyplot as plt\n",
    "import seaborn as sns\n",
    "\n",
    "# Load data\n",
    "df = pd.read_csv('../data/raw/delivery_records.csv')\n",
    "df['order_time'] = pd.to_datetime(df['order_time'])\n",
    "\n",
    "# Quick overview\n",
    "df.head()\n",
    "df.info()\n",
    "df.describe()\n"
   ]
  },
  {
   "cell_type": "code",
   "execution_count": null,
   "id": "e855f7ca",
   "metadata": {
    "vscode": {
     "languageId": "plaintext"
    }
   },
   "outputs": [],
   "source": [
    "# Distribution of delivery time\n",
    "sns.histplot(df['delivery_time_minutes'], kde=True)\n",
    "plt.title('Delivery Time Distribution')\n",
    "plt.xlabel('Minutes')\n",
    "plt.show()\n"
   ]
  },
  {
   "cell_type": "code",
   "execution_count": null,
   "id": "8424df87",
   "metadata": {
    "vscode": {
     "languageId": "plaintext"
    }
   },
   "outputs": [],
   "source": [
    "# Boxplot by traffic level\n",
    "sns.boxplot(x='traffic_level', y='delivery_time_minutes', data=df)\n",
    "plt.title('Delivery Time by Traffic Level')\n",
    "plt.show()\n"
   ]
  },
  {
   "cell_type": "code",
   "execution_count": null,
   "id": "4920218c",
   "metadata": {
    "vscode": {
     "languageId": "plaintext"
    }
   },
   "outputs": [],
   "source": [
    "# Boxplot by weather condition\n",
    "sns.boxplot(x='weather', y='delivery_time_minutes', data=df)\n",
    "plt.title('Delivery Time by Weather')\n",
    "plt.show()\n"
   ]
  }
 ],
 "metadata": {
  "language_info": {
   "name": "python"
  }
 },
 "nbformat": 4,
 "nbformat_minor": 5
}
