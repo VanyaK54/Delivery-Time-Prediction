{
 "cells": [
  {
   "cell_type": "markdown",
   "id": "5ea8b8f2",
   "metadata": {},
   "source": [
    "# 🧠 Feature Engineering\n",
    "\n",
    "This notebook creates time-based and encoded features to feed into the machine learning model.\n"
   ]
  },
  {
   "cell_type": "code",
   "execution_count": null,
   "id": "3f969d2b",
   "metadata": {
    "vscode": {
     "languageId": "plaintext"
    }
   },
   "outputs": [],
   "source": [
    "import pandas as pd\n",
    "from src.data_prep import load_data, preprocess\n",
    "\n",
    "df = load_data('../data/raw/delivery_records.csv')\n",
    "df = preprocess(df)\n",
    "df.head()\n"
   ]
  },
  {
   "cell_type": "code",
   "execution_count": null,
   "id": "ccd19301",
   "metadata": {
    "vscode": {
     "languageId": "plaintext"
    }
   },
   "outputs": [],
   "source": [
    "# Check feature columns after encoding\n",
    "df.columns\n"
   ]
  },
  {
   "cell_type": "code",
   "execution_count": null,
   "id": "b905e76d",
   "metadata": {
    "vscode": {
     "languageId": "plaintext"
    }
   },
   "outputs": [],
   "source": [
    "# Check correlation with target\n",
    "corr = df.corr(numeric_only=True)\n",
    "sns.heatmap(corr[['delivery_time_minutes']].sort_values(by='delivery_time_minutes', ascending=False), annot=True)\n",
    "plt.title(\"Correlation with Delivery Time\")\n",
    "plt.show()\n"
   ]
  }
 ],
 "metadata": {
  "language_info": {
   "name": "python"
  }
 },
 "nbformat": 4,
 "nbformat_minor": 5
}
