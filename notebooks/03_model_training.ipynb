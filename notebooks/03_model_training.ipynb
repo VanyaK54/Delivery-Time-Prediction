{
 "cells": [
  {
   "cell_type": "markdown",
   "id": "89a10742",
   "metadata": {},
   "source": [
    "# 🤖 Model Training - XGBoost Regressor\n",
    "\n",
    "This notebook trains and evaluates the XGBoost model on the delivery dataset.\n"
   ]
  },
  {
   "cell_type": "code",
   "execution_count": null,
   "id": "b659efb1",
   "metadata": {
    "vscode": {
     "languageId": "plaintext"
    }
   },
   "outputs": [],
   "source": [
    "from src.data_prep import load_data, preprocess\n",
    "from sklearn.model_selection import train_test_split\n",
    "from sklearn.metrics import mean_squared_error\n",
    "from sklearn.preprocessing import StandardScaler\n",
    "from xgboost import XGBRegressor\n",
    "import joblib\n",
    "import os\n",
    "\n",
    "df = load_data('../data/raw/delivery_records.csv')\n",
    "df = preprocess(df)\n",
    "\n",
    "X = df.drop(columns=[\"order_id\", \"order_time\", \"delivery_time_minutes\"])\n",
    "y = df[\"delivery_time_minutes\"]\n",
    "\n",
    "X_train, X_test, y_train, y_test = train_test_split(X, y, test_size=0.2, random_state=42)\n",
    "\n",
    "scaler = StandardScaler()\n",
    "X_train_scaled = scaler.fit_transform(X_train)\n",
    "X_test_scaled = scaler.transform(X_test)\n",
    "\n",
    "model = XGBRegressor(n_estimators=100, learning_rate=0.1, random_state=42)\n",
    "model.fit(X_train_scaled, y_train)\n",
    "\n",
    "preds = model.predict(X_test_scaled)\n",
    "rmse = mean_squared_error(y_test, preds, squared=False)\n",
    "print(f\"✅ RMSE: {rmse:.2f} minutes\")\n"
   ]
  },
  {
   "cell_type": "code",
   "execution_count": null,
   "id": "4d1db727",
   "metadata": {
    "vscode": {
     "languageId": "plaintext"
    }
   },
   "outputs": [],
   "source": [
    "# Save model\n",
    "os.makedirs('../models', exist_ok=True)\n",
    "joblib.dump(model, '../models/xgb_model.pkl')\n",
    "joblib.dump(scaler, '../models/scaler.pkl')\n"
   ]
  }
 ],
 "metadata": {
  "language_info": {
   "name": "python"
  }
 },
 "nbformat": 4,
 "nbformat_minor": 5
}
